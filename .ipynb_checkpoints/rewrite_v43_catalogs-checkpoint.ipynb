{
 "cells": [
  {
   "cell_type": "code",
   "execution_count": 1,
   "metadata": {},
   "outputs": [],
   "source": [
    "import numpy as np\n",
    "from numpy import *"
   ]
  },
  {
   "cell_type": "code",
   "execution_count": 2,
   "metadata": {},
   "outputs": [],
   "source": [
    "#gdn_v41 = np.loadtxt('/Users/rsimons/Desktop/clear/Catalogs/goodsn_3dhst.v4.1.cats/Catalog/goodsn_3dhst.v4.1.cat', dtype = 'str', delimiter = 'asdasd')\n",
    "#gdn_v43 = np.loadtxt('/Users/rsimons/Desktop/clear/Catalogs/goodsn_3dhst.v4.3.cat')\n",
    "\n",
    "gdn_v41 = np.loadtxt('/Users/rsimons/Desktop/clear/Catalogs/goodss_3dhst.v4.1.cats/Catalog/goodss_3dhst.v4.1.cat', dtype = 'str', delimiter = 'asdasd')\n",
    "gdn_v43 = np.loadtxt('/Users/rsimons/Desktop/clear/Catalogs/goodss_3dhst.v4.3.cat')\n",
    "\n",
    "\n"
   ]
  },
  {
   "cell_type": "code",
   "execution_count": 10,
   "metadata": {},
   "outputs": [],
   "source": [
    "#colnames_gdn = array('id x y ra dec faper_F160W eaper_F160W faper_F140W eaper_F140W f_F160W e_F160W w_F160W f_U e_U w_U f_F435W e_F435W w_F435W f_B e_B w_B f_G e_G w_G f_V e_V w_V f_F606W e_F606W w_F606W f_R e_R w_R f_Rs e_Rs w_Rs f_I e_I w_I f_F775W e_F775W w_F775W f_Z e_Z w_Z f_F850LP e_F850LP w_F850LP f_F105W e_F105W w_F105W f_F125W e_F125W w_F125W f_J e_J w_J f_F140W e_F140W w_F140W f_H e_H w_H f_Ks e_Ks w_Ks f_IRAC1 e_IRAC1 w_IRAC1 f_IRAC2 e_IRAC2 w_IRAC2 f_IRAC3 e_IRAC3 w_IRAC3 f_IRAC4 e_IRAC4 w_IRAC4 tot_cor wmin_ground wmin_hst wmin_wfc3 wmin_irac z_spec star_flag kron_radius a_image b_image theta_J2000 class_star flux_radius fwhm_image flags IRAC1_contam IRAC2_contam IRAC3_contam IRAC4_contam contam_flag f140w_flag use'.split(' '))\n",
    "colnames_gdn = array('id x y ra dec faper_F160W eaper_F160W faper_F140W eaper_F140W f_F160W e_F160W w_F160W f_U50 e_U50 w_U50 f_U38 e_U38 w_U38 f_U e_U w_U f_F435W e_F435W w_F435W f_B e_B w_B f_V e_V w_V f_F606Wcand e_F606Wcand w_F606Wcand f_F606W e_F606W w_F606W f_R e_R w_R f_Rc e_Rc w_Rc f_F775W e_F775W w_F775W f_I e_I w_I f_F814Wcand e_F814Wcand w_F814Wcand f_F850LP e_F850LP w_F850LP f_F850LPcand e_F850LPcand w_F850LPcand f_F098M e_F098M w_F098M f_F105W e_F105W w_F105W f_F125W e_F125W w_F125W f_J e_J w_J f_tenisJ e_tenisJ w_tenisJ f_F140W e_F140W w_F140W f_H e_H w_H f_tenisK e_tenisK w_tenisK f_Ks e_Ks w_Ks f_IRAC1 e_IRAC1 w_IRAC1 f_IRAC2 e_IRAC2 w_IRAC2 f_IRAC3 e_IRAC3 w_IRAC3 f_IRAC4 e_IRAC4 w_IRAC4 f_IA427 e_IA427 f_IA445 e_IA445 f_IA464 e_IA464 f_IA484 e_IA484 f_IA505 e_IA505 f_IA527 e_IA527 f_IA550 e_IA550 f_IA574 e_IA574 f_IA598 e_IA598 f_IA624 e_IA624 f_IA651 e_IA651 f_IA679 e_IA679 f_IA709 e_IA709 f_IA738 e_IA738 f_IA767 e_IA767 f_IA797 e_IA797 f_IA827 e_IA827 f_IA856 e_IA856 tot_cor wmin_ground wmin_hst wmin_wfc3 wmin_irac z_spec star_flag kron_radius a_image b_image theta_J2000 class_star flux_radius fwhm_image flags IRAC1_contam IRAC2_contam IRAC3_contam IRAC4_contam contam_flag f140w_flag use'.split(' '))\n",
    "\n",
    "\n",
    "\n",
    "\n"
   ]
  },
  {
   "cell_type": "code",
   "execution_count": 11,
   "metadata": {},
   "outputs": [],
   "source": [
    "g1 = where(colnames_gdn == 'f_F105W')[0]\n",
    "g2 = where(colnames_gdn == 'e_F105W')[0]\n",
    "g3 = where(colnames_gdn == 'w_F105W')[0]\n",
    "\n",
    "\n",
    "f_F105W = gdn_v43[:,g1]\n",
    "e_F105W = gdn_v43[:,g2]\n",
    "w_F105W = gdn_v43[:,g3]\n"
   ]
  },
  {
   "cell_type": "code",
   "execution_count": 12,
   "metadata": {},
   "outputs": [],
   "source": [
    "#f = open('/Users/rsimons/Desktop/clear/Catalogs/goodsn_3dhst_temp.v4.3.cat', 'w+')\n",
    "f = open('/Users/rsimons/Desktop/clear/Catalogs/goodss_3dhst_temp.v4.3.cat', 'w+')\n",
    "\n",
    "#f.write('# id x y ra dec faper_F160W eaper_F160W faper_F140W eaper_F140W f_F160W e_F160W w_F160W f_U e_U w_U f_F435W e_F435W w_F435W f_B e_B w_B f_G e_G w_G f_V e_V w_V f_F606W e_F606W w_F606W f_R e_R w_R f_Rs e_Rs w_Rs f_I e_I w_I f_F775W e_F775W w_F775W f_Z e_Z w_Z f_F850LP e_F850LP w_F850LP f_F125W e_F125W w_F125W f_J e_J w_J f_F140W e_F140W w_F140W f_H e_H w_H f_Ks e_Ks w_Ks f_IRAC1 e_IRAC1 w_IRAC1 f_IRAC2 e_IRAC2 w_IRAC2 f_IRAC3 e_IRAC3 w_IRAC3 f_IRAC4 e_IRAC4 w_IRAC4 tot_cor wmin_ground wmin_hst wmin_wfc3 wmin_irac z_spec star_flag kron_radius a_image b_image theta_J2000 class_star flux_radius fwhm_image flags IRAC1_contam IRAC2_contam IRAC3_contam IRAC4_contam contam_flag f140w_flag use_phot near_star nexp_f125w nexp_f140w nexp_f160w f_F105W e_F105W w_F105W\\n# goodsn_3dhst_temp.v4.1.cat\\n')\n",
    "f.write('#id x y ra dec faper_F160W eaper_F160W faper_F140W eaper_F140W f_F160W e_F160W w_F160W f_U38 e_U38 w_U38 f_U e_U w_U f_F435W e_F435W w_F435W f_B e_B w_B f_V e_V w_V f_F606Wcand e_F606Wcand w_F606Wcand f_F606W e_F606W w_F606W f_R e_R w_R f_Rc e_Rc w_Rc f_F775W e_F775W w_F775W f_I e_I w_I f_F814Wcand e_F814Wcand w_F814Wcand f_F850LP e_F850LP w_F850LP f_F850LPcand e_F850LPcand w_F850LPcand f_F125W e_F125W w_F125W f_J e_J w_J f_tenisJ e_tenisJ w_tenisJ f_F140W e_F140W w_F140W f_H e_H w_H f_tenisK e_tenisK w_tenisK f_Ks e_Ks w_Ks f_IRAC1 e_IRAC1 w_IRAC1 f_IRAC2 e_IRAC2 w_IRAC2 f_IRAC3 e_IRAC3 w_IRAC3 f_IRAC4 e_IRAC4 w_IRAC4 f_IA427 e_IA427 f_IA445 e_IA445 f_IA505 e_IA505 f_IA527 e_IA527 f_IA550 e_IA550 f_IA574 e_IA574 f_IA598 e_IA598 f_IA624 e_IA624 f_IA651 e_IA651 f_IA679 e_IA679 f_IA738 e_IA738 f_IA767 e_IA767 f_IA797 e_IA797 f_IA856 e_IA856 tot_cor wmin_ground wmin_hst wmin_wfc3 wmin_irac z_spec star_flag kron_radius a_image b_image theta_J2000 class_star flux_radius fwhm_image flags IRAC1_contam IRAC2_contam IRAC3_contam IRAC4_contam contam_flag f140w_flag use_phot near_star nexp_f125w nexp_f140w nexp_f160w f_F105W e_F105W w_F105W\\n# goodss_3dhst_temp.v4.1.cat\\n')\n",
    "\n",
    "\n",
    "\n",
    "\n",
    "for i in arange(len(gdn_v43)):\n",
    "    \n",
    "    f_str = '%.6f'%f_F105W[i]\n",
    "    e_str = '%.6f'%e_F105W[i]\n",
    "    w_str = '%.6f'%w_F105W[i]\n",
    "    \n",
    "    new_str = gdn_v41[i] + ' ' + f_str + ' ' + e_str + ' ' + w_str + '\\n'\n",
    "    f.write(new_str)\n",
    "        \n",
    "f.close()\n",
    "\n",
    "\n",
    "\n"
   ]
  },
  {
   "cell_type": "code",
   "execution_count": 9,
   "metadata": {},
   "outputs": [
    {
     "data": {
      "text/plain": [
       "array([], dtype=int64)"
      ]
     },
     "execution_count": 9,
     "metadata": {},
     "output_type": "execute_result"
    }
   ],
   "source": [
    "g1"
   ]
  },
  {
   "cell_type": "code",
   "execution_count": null,
   "metadata": {},
   "outputs": [],
   "source": []
  }
 ],
 "metadata": {
  "kernelspec": {
   "display_name": "Python 3",
   "language": "python",
   "name": "python3"
  },
  "language_info": {
   "codemirror_mode": {
    "name": "ipython",
    "version": 3
   },
   "file_extension": ".py",
   "mimetype": "text/x-python",
   "name": "python",
   "nbconvert_exporter": "python",
   "pygments_lexer": "ipython3",
   "version": "3.5.5"
  }
 },
 "nbformat": 4,
 "nbformat_minor": 2
}

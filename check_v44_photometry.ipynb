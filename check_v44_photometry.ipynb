{
 "cells": [
  {
   "cell_type": "code",
   "execution_count": 1,
   "metadata": {},
   "outputs": [],
   "source": [
    "import astropy\n",
    "from astropy.io import fits\n",
    "from numpy import *\n",
    "import numpy as np\n",
    "import matplotlib.pyplot as plt\n",
    "from matplotlib.pyplot import *\n",
    "%matplotlib inline\n",
    "import astropy\n",
    "from astropy.stats import mad_std"
   ]
  },
  {
   "cell_type": "code",
   "execution_count": 9,
   "metadata": {},
   "outputs": [],
   "source": [
    "cat_v41      = np.loadtxt('/Users/rsimons/Desktop/clear/Catalogs/goods%s_3dhst.v4.1.cats/Catalog/goods%s_3dhst.v4.1.cat'%(field, field))\n",
    "\n",
    "\n"
   ]
  },
  {
   "cell_type": "code",
   "execution_count": 10,
   "metadata": {},
   "outputs": [
    {
     "data": {
      "text/plain": [
       "array([0.174317, 0.140899, 0.146035, ..., 0.177173, 0.896376, 0.519715])"
      ]
     },
     "execution_count": 10,
     "metadata": {},
     "output_type": "execute_result"
    }
   ],
   "source": [
    "fv41_z[gd] "
   ]
  },
  {
   "cell_type": "code",
   "execution_count": 2,
   "metadata": {},
   "outputs": [],
   "source": [
    "field = 'n'\n",
    "\n",
    "cat_v41      = np.loadtxt('/Users/rsimons/Desktop/clear/Catalogs/goods%s_3dhst.v4.1.cats/Catalog/goods%s_3dhst.v4.1.cat'%(field, field))\n",
    "cat_v43      = np.loadtxt('/Users/rsimons/Desktop/clear/Catalogs/goods%s_3dhst.v4.3.cat'%field)\n",
    "cat_v43nzp   = np.loadtxt('/Users/rsimons/Desktop/clear/Catalogs/goods%s_3dhst.v4.3.nzpcat'%field)\n",
    "cat_v44      = np.loadtxt('/Users/rsimons/Desktop/clear/Catalogs/goods%s_3dhst.v4.4.cat'%field)[0:len(cat_v43)]\n",
    "\n",
    "\n",
    "hdr_v41 = array(np.loadtxt('/Users/rsimons/Desktop/clear/Catalogs/goods%s_3dhst.v4.1.cats/Catalog/goods%s_3dhst.v4.1.cat'%(field, field), comments = 'alskdm', delimiter = 'laskdm', dtype = 'str')[0].split(' '))\n",
    "hdr_v44 = array(np.loadtxt('/Users/rsimons/Desktop/clear/Catalogs/goods%s_3dhst.v4.4.cat'%field, comments = 'alskdm', delimiter = 'laskdm', dtype = 'str')[0].split(' '))\n",
    "hdr_v43 = array(np.loadtxt('/Users/rsimons/Desktop/clear/Catalogs/goods%s_3dhst.v4.3.cat'%field, comments = 'alskdm', delimiter = 'laskdm', dtype = 'str')[0].split(' '))\n",
    "hdr_v43nzp = array(np.loadtxt('/Users/rsimons/Desktop/clear/Catalogs/goods%s_3dhst.v4.3.nzpcat'%field, comments = 'alskdm', delimiter = 'laskdm', dtype = 'str')[0].split(' '))\n",
    "\n",
    "\n",
    "filt_n = {}\n",
    "\n",
    "filt_n['U'] =  0.3593\n",
    "filt_n['B'] =  0.4448\n",
    "filt_n['F435W'] =  0.4318\n",
    "filt_n['G'] =  0.4751\n",
    "filt_n['V'] =  0.5470\n",
    "filt_n['F606W'] =  0.5919\n",
    "filt_n['Rs'] =  0.6819\n",
    "filt_n['R'] =  0.6276\n",
    "filt_n['I'] =  0.7671\n",
    "filt_n['F775W'] =  0.7693\n",
    "filt_n['Z'] =  0.9028\n",
    "filt_n['F850LP'] =  0.9036\n",
    "filt_n['F125W'] =  1.2471\n",
    "filt_n['J'] =  1.2517\n",
    "filt_n['H'] =  1.6347\n",
    "filt_n['F140W'] =  1.3924\n",
    "filt_n['F160W'] =  1.5396\n",
    "filt_n['Ks'] =  2.1577\n",
    "filt_n['IRAC1'] =  3.5569\n",
    "filt_n['IRAC2'] =  4.5020\n",
    "filt_n['IRAC3'] =  5.7450\n",
    "filt_n['IRAC4'] =  7.9158\n",
    "filt_n['F105W'] =  1.05  \n",
    "\n"
   ]
  },
  {
   "cell_type": "code",
   "execution_count": 5,
   "metadata": {},
   "outputs": [
    {
     "data": {
      "image/png": "[encoded data removed]",
      "text/plain": [
       "<Figure size 720x720 with 1 Axes>"
      ]
     },
     "metadata": {},
     "output_type": "display_data"
    }
   ],
   "source": [
    "\n",
    "fig, ax = plt.subplots(1,1, figsize = (10,10))\n",
    "fv44_z  = cat_v44[:, where(hdr_v44 == 'f_Z')[0][0]] \n",
    "fv44_5 = cat_v44[:, where(hdr_v44 == 'f_F105W')[0][0]] \n",
    "\n",
    "fv43_z  = cat_v43[:, where(hdr_v43 == 'f_Z')[0][0]]\n",
    "fv43_5  = cat_v43[:, where(hdr_v43 == 'f_F105W')[0][0]]\n",
    "\n",
    "fv43nzp_z  = cat_v43nzp[:, where(hdr_v43nzp == 'f_Z')[0][0]]\n",
    "#fv43nzp_5  = cat_v43nzp[:, where(hdr_v43nzp == 'f_F105W')[0][0]]\n",
    "\n",
    "fv41_z  = cat_v41[:, where(hdr_v41 == 'f_Z')[0][0]]\n",
    "\n",
    "\n",
    "gd = where((fv44_z > 0) & (fv43_z > 0))[0]\n",
    "#ax.hist(fv44_z[gd] - fv44_5[gd], bins = linspace(-1,1,1000), color = 'black', histtype = 'step')\n",
    "#ax.hist(fv43_z[gd] - fv43_5[gd], bins = linspace(-1,1,1000), color = 'blue', histtype = 'step')\n",
    "#ax.hist(fv43nzp_z[gd] - fv44_5[gd], bins = linspace(-1,1,1000), color = 'red', histtype = 'step')\n",
    "pl = ax.hist(fv41_z[gd] - fv43nzp_z[gd], bins = linspace(-0.025,0.025,1000), color = 'green', histtype = 'step')\n",
    "\n",
    "\n",
    "#ax.plot(fv44[gd], (fv44[gd] - fv43[gd]), 'k.')\n",
    "#ax.plot([0, 100], [0,100], 'k-')\n",
    "\n",
    "#ax.set_xlim(0,2)\n",
    "#ax.set_ylim(-0.1,0.1)\n",
    "\n",
    "\n",
    "#ax.set_title(filt)\n",
    "\n"
   ]
  },
  {
   "cell_type": "code",
   "execution_count": 8,
   "metadata": {},
   "outputs": [
    {
     "data": {
      "text/plain": [
       "array([0.174317, 0.140899, 0.146035, ..., 0.177173, 0.896376, 0.519715])"
      ]
     },
     "execution_count": 8,
     "metadata": {},
     "output_type": "execute_result"
    }
   ],
   "source": []
  },
  {
   "cell_type": "code",
   "execution_count": null,
   "metadata": {},
   "outputs": [],
   "source": [
    "for filt in filt_n.keys():\n",
    "    fig, ax = plt.subplots(1,1, figsize = (5,5))\n",
    "    fv44  = cat_v44[:, where(hdr_v44 == 'f_' + filt)[0][0]] \n",
    "    fv43  = cat_v43[:, where(hdr_v43 == 'f_' + filt)[0][0]]\n",
    "    \n",
    "    gd = where((fv44 > 0) & (fv43 > 0))[0]\n",
    "    ax.plot(fv44[gd], (fv44[gd] - fv43[gd]), 'k.')\n",
    "    #ax.plot([0, 100], [0,100], 'k-')\n",
    "    \n",
    "    ax.set_xlim(0,2)\n",
    "    ax.set_ylim(-0.1,0.1)\n",
    "    \n",
    "    \n",
    "    ax.set_title(filt)\n",
    "    \n",
    "    "
   ]
  },
  {
   "cell_type": "code",
   "execution_count": null,
   "metadata": {},
   "outputs": [],
   "source": []
  },
  {
   "cell_type": "code",
   "execution_count": null,
   "metadata": {},
   "outputs": [],
   "source": []
  },
  {
   "cell_type": "code",
   "execution_count": null,
   "metadata": {},
   "outputs": [],
   "source": []
  },
  {
   "cell_type": "code",
   "execution_count": null,
   "metadata": {},
   "outputs": [],
   "source": []
  },
  {
   "cell_type": "code",
   "execution_count": null,
   "metadata": {},
   "outputs": [],
   "source": []
  }
 ],
 "metadata": {
  "kernelspec": {
   "display_name": "Python 3",
   "language": "python",
   "name": "python3"
  },
  "language_info": {
   "codemirror_mode": {
    "name": "ipython",
    "version": 3
   },
   "file_extension": ".py",
   "mimetype": "text/x-python",
   "name": "python",
   "nbconvert_exporter": "python",
   "pygments_lexer": "ipython3",
   "version": "3.5.5"
  }
 },
 "nbformat": 4,
 "nbformat_minor": 2
}

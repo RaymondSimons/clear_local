{
 "cells": [
  {
   "cell_type": "code",
   "execution_count": 1,
   "metadata": {},
   "outputs": [],
   "source": [
    "import astropy\n",
    "from astropy.io import fits"
   ]
  },
  {
   "cell_type": "code",
   "execution_count": 2,
   "metadata": {},
   "outputs": [],
   "source": [
    "def load_galfit(field, id_fit,  ra, dec, gfit_cat_gdn, gfit_cat_gds):\n",
    "    if 'GN' in field: gfit_cat = gfit_cat_gdn\n",
    "    elif 'GS' in field: \n",
    "        gfit_cat = gfit_cat_gds\n",
    "    else: return nan, nan\n",
    "\n",
    "    diff_arc = np.sqrt((ra - gfit_cat[:,1])**2. + (dec - gfit_cat[:,2])**2.)*3600.\n",
    "\n",
    "    if min(diff_arc) > 0.3:\n",
    "        return nan, nan\n",
    "    else:\n",
    "        re    = gfit_cat[np.argmin(diff_arc), 6]\n",
    "        tht   = gfit_cat[np.argmin(diff_arc), 12]\n",
    "        ethr  = gfit_cat[np.argmin(diff_arc), 13]\n",
    "        ab    = gfit_cat[np.argmin(diff_arc), 10]\n",
    "        eab   = gfit_cat[np.argmin(diff_arc), 11]\n",
    "\n",
    "    return tht, ab"
   ]
  },
  {
   "cell_type": "code",
   "execution_count": 3,
   "metadata": {},
   "outputs": [],
   "source": [
    "PATH_TO_PREP = '/Users/rsimons/Dropbox/rcs_clear/data'"
   ]
  },
  {
   "cell_type": "code",
   "execution_count": null,
   "metadata": {},
   "outputs": [],
   "source": []
  }
 ],
 "metadata": {
  "kernelspec": {
   "display_name": "Python 2",
   "language": "python",
   "name": "python2"
  },
  "language_info": {
   "codemirror_mode": {
    "name": "ipython",
    "version": 2
   },
   "file_extension": ".py",
   "mimetype": "text/x-python",
   "name": "python",
   "nbconvert_exporter": "python",
   "pygments_lexer": "ipython2",
   "version": "2.7.15"
  }
 },
 "nbformat": 4,
 "nbformat_minor": 2
}
